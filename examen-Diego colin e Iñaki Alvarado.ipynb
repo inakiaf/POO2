{
 "cells": [
  {
   "cell_type": "code",
   "execution_count": 5,
   "metadata": {},
   "outputs": [],
   "source": [
    "from tkinter import *\n",
    "from tkinter import ttk\n",
    "window = Tk()\n",
    "window.title(\"Welcome to Expedia\")\n",
    "window.geometry('600x600')\n",
    "window.configure(background = \"red\");\n",
    "a = Label(window ,text = \"username\").grid(row = 0,column = 0)\n",
    "b = Label(window ,text = \"password\").grid(row = 1,column = 0)\n",
    "c = Label(window ,text = \"Email Id\").grid(row = 2,column = 0)\n",
    "d = Label(window ,text = \"Number\").grid(row = 3,column = 0)\n",
    "a1 = Entry(window).grid(row = 0,column = 1)\n",
    "b1 = Entry(window).grid(row = 1,column = 1)\n",
    "c1 = Entry(window).grid(row = 2,column = 1)\n",
    "d1 = Entry(window).grid(row = 3,column = 1)\n",
    "def clicked():\n",
    "   res = \"Welcometo \" + txt.get()\n",
    "   lbl.configure(text= res)\n",
    "btn = ttk.Button(window ,text=\"Submit\").grid(row=4,column=0)\n",
    "window.mainloop()"
   ]
  },
  {
   "cell_type": "code",
   "execution_count": null,
   "metadata": {},
   "outputs": [],
   "source": []
  }
 ],
 "metadata": {
  "kernelspec": {
   "display_name": "Python 3",
   "language": "python",
   "name": "python3"
  },
  "language_info": {
   "codemirror_mode": {
    "name": "ipython",
    "version": 3
   },
   "file_extension": ".py",
   "mimetype": "text/x-python",
   "name": "python",
   "nbconvert_exporter": "python",
   "pygments_lexer": "ipython3",
   "version": "3.12.3"
  }
 },
 "nbformat": 4,
 "nbformat_minor": 2
}
